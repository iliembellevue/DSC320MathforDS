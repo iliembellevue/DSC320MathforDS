{
 "cells": [
  {
   "cell_type": "markdown",
   "id": "1e1708d1",
   "metadata": {},
   "source": [
    "## 1. Using the Binomial Distribution"
   ]
  },
  {
   "cell_type": "code",
   "execution_count": 1,
   "id": "f956b2ae",
   "metadata": {},
   "outputs": [],
   "source": [
    "#Import all necessary libraries\n",
    "import numpy as np\n",
    "import sklearn\n",
    "from scipy.stats import binom\n",
    "import matplotlib.pyplot as plt"
   ]
  },
  {
   "cell_type": "code",
   "execution_count": 2,
   "id": "3c61100f",
   "metadata": {},
   "outputs": [
    {
     "name": "stdout",
     "output_type": "stream",
     "text": [
      "85.0%\n"
     ]
    }
   ],
   "source": [
    "#Set my variables n = ensemble models, p = the percentage of model accuracy, \n",
    "# and k = the lesser than majority vote\n",
    "n = 15\n",
    "p = 0.63\n",
    "k = 7\n",
    "\n",
    "#Use binomial cummulitve distribution, 1 minus function to find the models accuracy.\n",
    "q1a = 1-binom.cdf(k,n,p)\n",
    "print('{}%'.format(round(q1a * 100,0)))"
   ]
  },
  {
   "cell_type": "code",
   "execution_count": 3,
   "id": "6cd22218",
   "metadata": {},
   "outputs": [
    {
     "name": "stdout",
     "output_type": "stream",
     "text": [
      "95.0%\n"
     ]
    }
   ],
   "source": [
    "#Adjusting p2 to figure out what percentage is needed to get 95% accuracy\n",
    "p2=0.7\n",
    "\n",
    "#Use binomial cummulitve distribution, 1 minus function to find 95% model accuracy.\n",
    "q1b = 1-binom.cdf(k,n,p2)\n",
    "print('{}%'.format(round(q1b * 100,0)))"
   ]
  },
  {
   "cell_type": "code",
   "execution_count": 4,
   "id": "9f541c05",
   "metadata": {},
   "outputs": [
    {
     "name": "stdout",
     "output_type": "stream",
     "text": [
      "95.0%\n"
     ]
    }
   ],
   "source": [
    "#Adjusting the ensemble model number to find the smallest odd number.\n",
    "n = 37\n",
    "\n",
    "#Adjust the k value with number with less than majority\n",
    "k = (n/2) - 0.5\n",
    "\n",
    "#Use binomial cummulitve distribution, 1 minus function to find the least \n",
    "# number of models at 63% with a model accuracy of 95%.\n",
    "q1c = 1-binom.cdf(k,n,p)\n",
    "print('{}%'.format(round(q1c * 100,0)))"
   ]
  },
  {
   "cell_type": "markdown",
   "id": "86e3b274",
   "metadata": {},
   "source": [
    "## 2. Working with Random Data"
   ]
  },
  {
   "cell_type": "code",
   "execution_count": 5,
   "id": "33b19147",
   "metadata": {},
   "outputs": [
    {
     "data": {
      "text/plain": [
       "array([3, 4, 5, 4, 3, 4, 3, 2, 5, 3, 5, 4, 3, 3, 4, 2, 2, 3, 2, 3, 5, 5,\n",
       "       2, 5, 3, 2, 5, 3, 4, 5, 2, 5, 1, 3, 3, 2, 3, 2, 5, 5, 5, 2, 5, 3,\n",
       "       1, 4, 5, 3, 5, 4])"
      ]
     },
     "execution_count": 5,
     "metadata": {},
     "output_type": "execute_result"
    }
   ],
   "source": [
    "#Create a pmf for X (values 1-5)\n",
    "pmf = np.array([0.05,0.2,0.3,0.05,.4])\n",
    "\n",
    "#Create function to generate 50 random x-values from 'pmf'\n",
    "np.random.choice(range(1,6), 50, True, pmf)"
   ]
  },
  {
   "cell_type": "code",
   "execution_count": 6,
   "id": "f38b60cb",
   "metadata": {},
   "outputs": [],
   "source": [
    "def get_mean():\n",
    "    #Declare my variables\n",
    "    sample_runs, i, sample_means= 1000, 0, []\n",
    "    \n",
    "    #Loop until I reach the declared sample runs\n",
    "    while i < sample_runs: \n",
    "        #Generate and store the random sample mean for the 50 random x-values from 'pmf'\n",
    "        sample_means.append(np.random.choice(range(1,6), 50, True, pmf).mean())\n",
    "        i = i +1\n",
    "    return(np.array(sample_means))"
   ]
  },
  {
   "cell_type": "code",
   "execution_count": 7,
   "id": "38a678b4",
   "metadata": {},
   "outputs": [
    {
     "data": {
      "image/png": "[encoded data removed]",
      "text/plain": [
       "<Figure size 432x288 with 1 Axes>"
      ]
     },
     "metadata": {
      "needs_background": "light"
     },
     "output_type": "display_data"
    }
   ],
   "source": [
    "#Run the get_mean function and return into variable\n",
    "means = get_mean()\n",
    "\n",
    "#Create a histogram of the means\n",
    "plt.hist(means)\n",
    "plt.show()"
   ]
  },
  {
   "cell_type": "code",
   "execution_count": 8,
   "id": "bbbc2f21",
   "metadata": {},
   "outputs": [
    {
     "name": "stdout",
     "output_type": "stream",
     "text": [
      "The mean of the sample is 3.5442 The standard deviation of the sample is 0.18739679826507177\n"
     ]
    }
   ],
   "source": [
    "print(\"The mean of the sample is\",means.mean(),\"The standard deviation of the sample is\", means.std())"
   ]
  },
  {
   "cell_type": "markdown",
   "id": "0e162a27",
   "metadata": {},
   "source": [
    "I hope this is correct. I'm still a struggling with understanding the theoretical mean/stdev. My though process here is that\n",
    "If the theoretical mean of the sample is the same as a the theoretical mean of a single sample, the theoretical mean/std are just the mean and stdev of a single sample. However, with the standard deviation we must include stdev/sqrt(sample_size)."
   ]
  },
  {
   "cell_type": "code",
   "execution_count": 9,
   "id": "e851743b",
   "metadata": {},
   "outputs": [
    {
     "data": {
      "text/plain": [
       "3.38"
      ]
     },
     "execution_count": 9,
     "metadata": {},
     "output_type": "execute_result"
    }
   ],
   "source": [
    "np.random.choice(range(1,6), 50, True, pmf).mean()"
   ]
  },
  {
   "cell_type": "code",
   "execution_count": 10,
   "id": "5a399616",
   "metadata": {},
   "outputs": [
    {
     "data": {
      "text/plain": [
       "0.1901788631788507"
      ]
     },
     "execution_count": 10,
     "metadata": {},
     "output_type": "execute_result"
    }
   ],
   "source": [
    "np.random.choice(range(1,6), 50, True, pmf).std()/np.sqrt(50)"
   ]
  }
 ],
 "metadata": {
  "kernelspec": {
   "display_name": "Python 3 (ipykernel)",
   "language": "python",
   "name": "python3"
  },
  "language_info": {
   "codemirror_mode": {
    "name": "ipython",
    "version": 3
   },
   "file_extension": ".py",
   "mimetype": "text/x-python",
   "name": "python",
   "nbconvert_exporter": "python",
   "pygments_lexer": "ipython3",
   "version": "3.9.7"
  }
 },
 "nbformat": 4,
 "nbformat_minor": 5
}
