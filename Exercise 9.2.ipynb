{
 "cells": [
  {
   "cell_type": "markdown",
   "id": "6577d92b",
   "metadata": {},
   "source": [
    "## 1. Finding the Eigenvalues and Eigenvectors of a Matrix"
   ]
  },
  {
   "cell_type": "code",
   "execution_count": 163,
   "id": "b9cc252e",
   "metadata": {},
   "outputs": [],
   "source": [
    "#Import the necessary libraries.\n",
    "import numpy as np\n",
    "import matplotlib.pyplot as plt\n",
    "\n",
    "#Create an array matrix of the linear equation in the weekly lesson.\n",
    "A = np.array([[4,0,1],\n",
    "              [-1,-6,-2],\n",
    "              [5,0,0]])\n",
    "\n",
    "u = np.array([[1],\n",
    "              [2],\n",
    "              [3]])"
   ]
  },
  {
   "cell_type": "code",
   "execution_count": 164,
   "id": "b98d37ad",
   "metadata": {},
   "outputs": [
    {
     "name": "stdout",
     "output_type": "stream",
     "text": [
      "[[  7]\n",
      " [-19]\n",
      " [  5]]\n"
     ]
    },
    {
     "data": {
      "image/png": "[encoded data removed]",
      "text/plain": [
       "<Figure size 432x288 with 1 Axes>"
      ]
     },
     "metadata": {
      "needs_background": "light"
     },
     "output_type": "display_data"
    }
   ],
   "source": [
    "#Use calculation to multiply array A by u.\n",
    "v = A @ u\n",
    "\n",
    "#Show x and y lines on the chart.\n",
    "plt.axvline(0.00, color='#D3D3D3')\n",
    "plt.axhline(0.00, color='#D3D3D3')\n",
    "\n",
    "#Plot the the original vector and the multiplied results according to the textbook.\n",
    "plt.quiver(0, 0, u[0], u[1], color=\"#2EBCE7\", angles='xy',\n",
    "scale_units='xy', scale=1)\n",
    "plt.quiver(0, 0, v[0], v[1], color=\"#00E64E\", angles='xy',\n",
    "scale_units='xy', scale=1)\n",
    "print(v)"
   ]
  },
  {
   "cell_type": "code",
   "execution_count": 165,
   "id": "c7b45810",
   "metadata": {},
   "outputs": [
    {
     "name": "stdout",
     "output_type": "stream",
     "text": [
      "[[ 0]\n",
      " [-6]\n",
      " [ 0]]\n"
     ]
    },
    {
     "data": {
      "image/png": "[encoded data removed]",
      "text/plain": [
       "<Figure size 432x288 with 1 Axes>"
      ]
     },
     "metadata": {
      "needs_background": "light"
     },
     "output_type": "display_data"
    }
   ],
   "source": [
    "#Define a new u value to calculate A by.\n",
    "u = np.array([[0],\n",
    "              [1],\n",
    "              [0]])\n",
    "\n",
    "#Use calculation to multiply array A by u\n",
    "v = A @ u\n",
    "\n",
    "#Show x lines on the chart.\n",
    "plt.axhline(0, color='#D3D3D3')\n",
    "\n",
    "#Plot the the original vector and the multiplied results according to the textbook.\n",
    "plt.quiver(0, 0, u[0], u[1], color=\"#2EBCE7\", angles='xy',\n",
    "scale_units='xy', scale=1)\n",
    "plt.quiver(0, 0, v[0], v[1], color=\"#00E64E\", angles='xy',\n",
    "scale_units='xy', scale=1)\n",
    "print(v)"
   ]
  },
  {
   "cell_type": "code",
   "execution_count": 166,
   "id": "9d96128d",
   "metadata": {},
   "outputs": [],
   "source": [
    "#Use numpys linalg eigenvalues/eigenvectors function to find all of them for A.\n",
    "eigenvalues, eigenvectors = np.linalg.eig(A)"
   ]
  },
  {
   "cell_type": "code",
   "execution_count": 167,
   "id": "0f84a263",
   "metadata": {},
   "outputs": [
    {
     "name": "stdout",
     "output_type": "stream",
     "text": [
      "[-6.  5. -1.]\n"
     ]
    }
   ],
   "source": [
    "#Show all the eigenvalues.\n",
    "print(eigenvalues)"
   ]
  },
  {
   "cell_type": "code",
   "execution_count": 168,
   "id": "388681f3",
   "metadata": {},
   "outputs": [
    {
     "name": "stdout",
     "output_type": "stream",
     "text": [
      "[[ 0.          0.69431384 -0.18493168]\n",
      " [ 1.         -0.18935832 -0.33287702]\n",
      " [ 0.          0.69431384  0.9246584 ]]\n"
     ]
    }
   ],
   "source": [
    "#Show all the eigenvectors.\n",
    "print(eigenvectors)"
   ]
  },
  {
   "cell_type": "markdown",
   "id": "0733cd1a",
   "metadata": {},
   "source": [
    "## 2. Principal Component Analysis"
   ]
  },
  {
   "cell_type": "code",
   "execution_count": 169,
   "id": "fb140279",
   "metadata": {},
   "outputs": [],
   "source": [
    "#Import pandas and store the video games csv into a dataframe.\n",
    "import pandas as pd\n",
    "df = pd.read_csv(\"video_game_data.csv\")"
   ]
  },
  {
   "cell_type": "code",
   "execution_count": 170,
   "id": "8d814533",
   "metadata": {},
   "outputs": [
    {
     "data": {
      "text/plain": [
       "Text(0, 0.5, 'critic score')"
      ]
     },
     "execution_count": 170,
     "metadata": {},
     "output_type": "execute_result"
    },
    {
     "data": {
      "image/png": "[encoded data removed]",
      "text/plain": [
       "<Figure size 432x288 with 1 Axes>"
      ]
     },
     "metadata": {
      "needs_background": "light"
     },
     "output_type": "display_data"
    }
   ],
   "source": [
    "#Plot a scatter plot where user_score is x and critic_score is y.\n",
    "plt.scatter(df[\"user_score\"],df[\"critic_score\"])\n",
    "\n",
    "#Give the plot x/y labels.\n",
    "plt.xlabel('user score')\n",
    "plt.ylabel('critic score')"
   ]
  },
  {
   "cell_type": "code",
   "execution_count": 171,
   "id": "84b3114d",
   "metadata": {},
   "outputs": [],
   "source": [
    "#Create an array of the two columns user_score and critic_score.\n",
    "X = np.array([df['user_score'], df['critic_score']]).T\n",
    "\n",
    "#Compute the covariance of the two columns from X.\n",
    "C = np.cov(X, rowvar=False)\n",
    "\n",
    "#Compute the eigenvalues and eigenvectors of covariance matrix C.\n",
    "eigvals, eigvecs = np.linalg.eig(C)\n",
    "\n",
    "#Transform the eigenvectors into two vectors.\n",
    "u = eigvecs[:, 0].reshape(-1, 1)\n",
    "v = eigvecs[:, 1].reshape(-1, 1)"
   ]
  },
  {
   "cell_type": "code",
   "execution_count": 172,
   "id": "0342543d",
   "metadata": {},
   "outputs": [
    {
     "data": {
      "text/plain": [
       "<matplotlib.lines.Line2D at 0x7fcacaa2b610>"
      ]
     },
     "execution_count": 172,
     "metadata": {},
     "output_type": "execute_result"
    },
    {
     "data": {
      "image/png": "[encoded data removed]",
      "text/plain": [
       "<Figure size 432x288 with 1 Axes>"
      ]
     },
     "metadata": {
      "needs_background": "light"
     },
     "output_type": "display_data"
    }
   ],
   "source": [
    "#Compute centered data from our array of user_sore and critic_score\n",
    "X_centered = X - X.mean(axis=0)\n",
    "\n",
    "#Plot the eigenvectors with their corresponding eigenvalues with 3 standard deviations for each. \n",
    "plt.quiver(0, 0,\n",
    "2 * np.sqrt(eigvals[0]) * u[0], 2 * np.sqrt(eigvals[0]) * u[1],\n",
    "color=\"#919191\", angles='xy', scale_units='xy', scale=1,\n",
    "zorder=2, width=0.011)\n",
    "\n",
    "plt.quiver(0, 0,\n",
    "2 * np.sqrt(eigvals[1]) * v[0], 2 * np.sqrt(eigvals[1]) * v[1],\n",
    "color=\"#FF8177\", angles='xy', scale_units='xy', scale=1,\n",
    "zorder=2, width=0.011)\n",
    "\n",
    "#Plot the scaled values around 0 from X_centered.\n",
    "plt.scatter(X_centered[:, 0], X_centered[:, 1], alpha=0.3)\n",
    "plt.axvline(0, color='#D3D3D3')\n",
    "plt.axhline(0, color='#D3D3D3')"
   ]
  }
 ],
 "metadata": {
  "kernelspec": {
   "display_name": "Python 3 (ipykernel)",
   "language": "python",
   "name": "python3"
  },
  "language_info": {
   "codemirror_mode": {
    "name": "ipython",
    "version": 3
   },
   "file_extension": ".py",
   "mimetype": "text/x-python",
   "name": "python",
   "nbconvert_exporter": "python",
   "pygments_lexer": "ipython3",
   "version": "3.9.7"
  }
 },
 "nbformat": 4,
 "nbformat_minor": 5
}
