{
 "cells": [
  {
   "cell_type": "code",
   "execution_count": 1,
   "id": "fe34fbc2",
   "metadata": {},
   "outputs": [],
   "source": [
    "import pandas as pd\n",
    "import numpy as np\n",
    "\n",
    "# 1. define data normaliztion forumula\n",
    "def normalize(df):\n",
    "    # Create a new dataframe to store the results of the normalized data.\n",
    "    new_df = pd.DataFrame()\n",
    "    # Iterate through each column. This allows for the columns to be dynamic.\n",
    "    for column in df:\n",
    "        # Create an empty array to store the result of the column in focus.\n",
    "        result = []\n",
    "        # Find min/max of the column in focus.\n",
    "        max_of_col = max(df[column])\n",
    "        min_of_col = min(df[column])\n",
    "        # For each xi in the column of focus normalize using the given function.\n",
    "        for value in df[column]:\n",
    "            # Append the result to the array for each row\n",
    "            result.append(((value-max_of_col)) / (max_of_col-min_of_col))\n",
    "        # Pass the array into a new dataframe column\n",
    "        new_df[str(column) + \"_norm\"] = result\n",
    "    return new_df\n",
    "\n",
    "# 2. define data standardization forumula\n",
    "def standardization(df):\n",
    "    # Create a new dataframe to store the results of the standardized data.\n",
    "    new_df = pd.DataFrame()\n",
    "    # Iterate through each column. This allows for the columns to be dynamic.\n",
    "    for column in df:\n",
    "        # Create an empty array to store the result of the column in focus.\n",
    "        result = []\n",
    "        # Find the mean and sample standard deviation with the parameter ddof=1 for sample. Omit if population.\n",
    "        mean_of_col = np.mean(df[column])\n",
    "        std_of_col = np.std(df[column], ddof=1)\n",
    "        # For each xi in the column of focus standardize using the given function.\n",
    "        for value in df[column]:\n",
    "            # Append the result to the array for each row\n",
    "            result.append(((value-mean_of_col)) / std_of_col)\n",
    "        # Pass the array into a new dataframe column\n",
    "        new_df[str(column) + \"_stand\"] = result\n",
    "    return new_df"
   ]
  },
  {
   "cell_type": "code",
   "execution_count": 2,
   "id": "99fdfcda",
   "metadata": {},
   "outputs": [
    {
     "name": "stdout",
     "output_type": "stream",
     "text": [
      "3a) The length of the dataset is 20640 records\n"
     ]
    }
   ],
   "source": [
    "# Read CSV and put into new pandas dataframe object.\n",
    "df = pd.read_csv(r'C:\\Users\\ILiem\\OneDrive - The Scoular Company\\Documents\\Bellevue\\Math for DS\\calif_housing_data.csv')\n",
    "print(\"3a) The length of the dataset is\",len(df), \"records\")"
   ]
  },
  {
   "cell_type": "code",
   "execution_count": 3,
   "id": "4bd7fdda",
   "metadata": {},
   "outputs": [
    {
     "name": "stdout",
     "output_type": "stream",
     "text": [
      "3b) The target vector is the median house value column.\n"
     ]
    }
   ],
   "source": [
    "print(\"3b) The target vector is the median house value column.\")"
   ]
  },
  {
   "cell_type": "code",
   "execution_count": 4,
   "id": "8d95acb7",
   "metadata": {},
   "outputs": [
    {
     "name": "stdout",
     "output_type": "stream",
     "text": [
      "3c) The column bedrooms_households represents the average bedrooms per household.\n"
     ]
    }
   ],
   "source": [
    "# Create new column in the dataframe \n",
    "df[\"bedrooms_households\"] = df.total_bedrooms / df.households\n",
    "print(\"3c) The column bedrooms_households represents the average bedrooms per household.\")"
   ]
  },
  {
   "cell_type": "code",
   "execution_count": 5,
   "id": "9f068fda",
   "metadata": {},
   "outputs": [
    {
     "name": "stdout",
     "output_type": "stream",
     "text": [
      "3d) The new dataframe only has median age, median income, and average bedrooms per household\n",
      "\n",
      "    housing_median_age  median_income  bedrooms_households\n",
      "0                  41         8.3252             1.023810\n",
      "1                  21         8.3014             0.971880\n",
      "2                  52         7.2574             1.073446\n",
      "3                  52         5.6431             1.073059\n",
      "4                  52         3.8462             1.081081\n"
     ]
    }
   ],
   "source": [
    "# Select the appropriate target columns to pass to the standardization and normalization functions.\n",
    "df2 = df[[\"housing_median_age\", \"median_income\",\"bedrooms_households\"]]\n",
    "print(\"3d) The new dataframe only has median age, median income, and average bedrooms per household\\n\\n\", df2.head())"
   ]
  },
  {
   "cell_type": "code",
   "execution_count": 6,
   "id": "528fcf68",
   "metadata": {},
   "outputs": [
    {
     "name": "stdout",
     "output_type": "stream",
     "text": [
      "3e) The final dataframe has been merged into the original and is as follows\n",
      "\n",
      "        housing_median_age  median_income  bedrooms_households  \\\n",
      "0                      41         8.3252             1.023810   \n",
      "1                      21         8.3014             0.971880   \n",
      "2                      52         7.2574             1.073446   \n",
      "3                      52         5.6431             1.073059   \n",
      "4                      52         3.8462             1.081081   \n",
      "...                   ...            ...                  ...   \n",
      "20635                  25         1.5603             1.133333   \n",
      "20636                  18         2.5568             1.315789   \n",
      "20637                  17         1.7000             1.120092   \n",
      "20638                  18         1.8672             1.171920   \n",
      "20639                  16         2.3886             1.162264   \n",
      "\n",
      "       housing_median_age_stand  median_income_stand  \\\n",
      "0                      0.982119             2.344709   \n",
      "1                     -0.607004             2.332181   \n",
      "2                      1.856137             1.782656   \n",
      "3                      1.856137             0.932945   \n",
      "4                      1.856137            -0.012881   \n",
      "...                         ...                  ...   \n",
      "20635                 -0.289180            -1.216099   \n",
      "20636                 -0.845373            -0.691576   \n",
      "20637                 -0.924829            -1.142566   \n",
      "20638                 -0.845373            -1.054557   \n",
      "20639                 -1.004285            -0.780111   \n",
      "\n",
      "       bedrooms_households_stand  housing_median_age_norm  median_income_norm  \\\n",
      "0                      -0.153859                -0.215686           -0.460332   \n",
      "1                      -0.262930                -0.607843           -0.461973   \n",
      "2                      -0.049603                 0.000000           -0.533972   \n",
      "3                      -0.050416                 0.000000           -0.645301   \n",
      "4                      -0.033567                 0.000000           -0.769224   \n",
      "...                          ...                      ...                 ...   \n",
      "20635                   0.076183                -0.529412           -0.926870   \n",
      "20636                   0.459410                -0.666667           -0.858147   \n",
      "20637                   0.048372                -0.686275           -0.917236   \n",
      "20638                   0.157229                -0.666667           -0.905705   \n",
      "20639                   0.136949                -0.705882           -0.869747   \n",
      "\n",
      "       bedrooms_households_norm  \n",
      "0                     -0.979531  \n",
      "1                     -0.981071  \n",
      "2                     -0.978060  \n",
      "3                     -0.978071  \n",
      "4                     -0.977834  \n",
      "...                         ...  \n",
      "20635                 -0.976285  \n",
      "20636                 -0.970876  \n",
      "20637                 -0.976677  \n",
      "20638                 -0.975141  \n",
      "20639                 -0.975427  \n",
      "\n",
      "[20640 rows x 9 columns]\n"
     ]
    }
   ],
   "source": [
    "# Pass the dataframe to the functions and resturn the result set.\n",
    "df_stand = standardization(df2)\n",
    "df_norm = normalize(df2)\n",
    "\n",
    "# Merge the returned dataframes into one single data frame on the index.\n",
    "df2 = df2.merge(df_stand, left_index = True, right_index = True)\n",
    "df2 = df2.merge(df_norm, left_index = True, right_index = True)\n",
    "print(\"3e) The final dataframe has been merged into the original and is as follows\\n\\n\",df2)"
   ]
  },
  {
   "cell_type": "code",
   "execution_count": null,
   "id": "dee387b4",
   "metadata": {},
   "outputs": [],
   "source": []
  }
 ],
 "metadata": {
  "kernelspec": {
   "display_name": "Python 3",
   "language": "python",
   "name": "python3"
  },
  "language_info": {
   "codemirror_mode": {
    "name": "ipython",
    "version": 3
   },
   "file_extension": ".py",
   "mimetype": "text/x-python",
   "name": "python",
   "nbconvert_exporter": "python",
   "pygments_lexer": "ipython3",
   "version": "3.8.8"
  }
 },
 "nbformat": 4,
 "nbformat_minor": 5
}
