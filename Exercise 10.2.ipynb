{
 "cells": [
  {
   "cell_type": "markdown",
   "id": "498898a5",
   "metadata": {},
   "source": [
    "## 1. Summarizing Data"
   ]
  },
  {
   "cell_type": "code",
   "execution_count": 1,
   "id": "2cace264",
   "metadata": {},
   "outputs": [
    {
     "name": "stdout",
     "output_type": "stream",
     "text": [
      "             name team  games    att    cmp  comp_pct     yds  ypa    td  int  \\\n",
      "0  Ryan Tannehill  TEN   12.0  286.0  201.0      70.3  2742.0  9.6  22.0  6.0   \n",
      "1      Drew Brees   NO   11.0  378.0  281.0      74.3  2979.0  7.9  27.0  4.0   \n",
      "2   Lamar Jackson  BAL   15.0  401.0  265.0      66.1  3127.0  7.8  36.0  6.0   \n",
      "3    Kirk Cousins  MIN   15.0  444.0  307.0      69.1  3603.0  8.1  26.0  6.0   \n",
      "4  Russell Wilson  SEA   16.0  516.0  341.0      66.1  4110.0  8.0  31.0  5.0   \n",
      "\n",
      "   sack   loss  rating  \n",
      "0  31.0  212.0   117.5  \n",
      "1  12.0   89.0   116.3  \n",
      "2  23.0  106.0   113.3  \n",
      "3  28.0  206.0   107.4  \n",
      "4  48.0  319.0   106.3  \n"
     ]
    }
   ],
   "source": [
    "#Import the necessary libraries.\n",
    "import pandas as pd\n",
    "import matplotlib.pyplot as plt\n",
    "import numpy as np\n",
    "\n",
    "#Import csv into a pandas dataframe\n",
    "df = pd.read_csv(\"qb_stats.csv\")\n",
    "\n",
    "#Show the dataframe to get a sense of the data.\n",
    "print(df.head())"
   ]
  },
  {
   "cell_type": "code",
   "execution_count": 2,
   "id": "96211201",
   "metadata": {},
   "outputs": [
    {
     "name": "stdout",
     "output_type": "stream",
     "text": [
      "The mean of each numeric column:\n",
      " games         14.125000\n",
      "att          478.406250\n",
      "cmp          306.562500\n",
      "comp_pct      64.296875\n",
      "yds         3515.062500\n",
      "ypa            7.375000\n",
      "td            22.375000\n",
      "int           10.343750\n",
      "sack          32.312500\n",
      "loss         217.093750\n",
      "rating        93.387500\n",
      "dtype: float64\n",
      "\n",
      "The standard deviation of each numeric column:\n",
      " games         2.406309\n",
      "att         110.360366\n",
      "cmp          68.929575\n",
      "comp_pct      3.627537\n",
      "yds         852.437489\n",
      "ypa           0.796768\n",
      "td            6.256609\n",
      "int           5.839849\n",
      "sack         10.514008\n",
      "loss         70.786075\n",
      "rating       11.054725\n",
      "dtype: float64\n"
     ]
    }
   ],
   "source": [
    "#Calculate the mean and standard deviation of each numeric column in the dataframe\n",
    "print(\"The mean of each numeric column:\\n\", df.mean(numeric_only=True))\n",
    "print(\"\\nThe standard deviation of each numeric column:\\n\", df.std(numeric_only=True))"
   ]
  },
  {
   "cell_type": "code",
   "execution_count": 3,
   "id": "31690664",
   "metadata": {},
   "outputs": [
    {
     "data": {
      "image/png": "[encoded data removed]",
      "text/plain": [
       "<Figure size 432x288 with 1 Axes>"
      ]
     },
     "metadata": {
      "needs_background": "light"
     },
     "output_type": "display_data"
    }
   ],
   "source": [
    "#Plot histogram by yards and coinciding x/y-axises \n",
    "plt.hist(df['yds'])\n",
    "plt.xlabel('Yards per QB')\n",
    "plt.ylabel('Number of QBs')\n",
    "plt.show()"
   ]
  },
  {
   "cell_type": "code",
   "execution_count": 4,
   "id": "3768c701",
   "metadata": {},
   "outputs": [
    {
     "data": {
      "image/png": "[encoded data removed]",
      "text/plain": [
       "<Figure size 432x288 with 1 Axes>"
      ]
     },
     "metadata": {
      "needs_background": "light"
     },
     "output_type": "display_data"
    }
   ],
   "source": [
    "plt.boxplot(df['td'])\n",
    "plt.show()"
   ]
  },
  {
   "cell_type": "code",
   "execution_count": 5,
   "id": "98d4cd6f",
   "metadata": {},
   "outputs": [
    {
     "name": "stdout",
     "output_type": "stream",
     "text": [
      "          name team  games    att    cmp  comp_pct     yds  ypa   td  int  \\\n",
      "24  Joe Flacco  DEN    8.0  262.0  171.0      65.3  1822.0  7.0  6.0  5.0   \n",
      "\n",
      "    sack   loss  rating  \n",
      "24  26.0  194.0    85.1  \n"
     ]
    }
   ],
   "source": [
    "#Finding the 1st quartile\n",
    "q1 = np.quantile(df['td'], 0.25)\n",
    " \n",
    "#Finding the 3rd quartile\n",
    "q3 = np.quantile(df['td'], 0.75)\n",
    "med = np.median(df['td'])\n",
    " \n",
    "#Finding the iqr region\n",
    "iqr = q3-q1\n",
    " \n",
    "#Finding upper and lower whiskers\n",
    "upper_bound = q3+(1.5*iqr)\n",
    "lower_bound = q1-(1.5*iqr)\n",
    "\n",
    "#Place the outliers above or below the whiskers into a variable and show.\n",
    "outliers = df[(df['td'] <= lower_bound) | (df['td'] >= upper_bound)]\n",
    "print(outliers)"
   ]
  },
  {
   "cell_type": "markdown",
   "id": "7cc78851",
   "metadata": {},
   "source": [
    "## 2. Calculating Probabilities from Data"
   ]
  },
  {
   "cell_type": "code",
   "execution_count": 6,
   "id": "e10d8bd8",
   "metadata": {},
   "outputs": [
    {
     "name": "stdout",
     "output_type": "stream",
     "text": [
      "  hair_color eye_color\n",
      "0      brown     brown\n",
      "1      brown     brown\n",
      "2      brown      blue\n",
      "3      brown     green\n",
      "4      brown     brown\n"
     ]
    }
   ],
   "source": [
    "#Import csv into a pandas dataframe\n",
    "df = pd.read_csv(\"survey_data.csv\")\n",
    "\n",
    "#Show the dataframe to get a sense of the data.\n",
    "print(df.head())"
   ]
  },
  {
   "cell_type": "code",
   "execution_count": 7,
   "id": "ff965a65",
   "metadata": {},
   "outputs": [
    {
     "name": "stdout",
     "output_type": "stream",
     "text": [
      "51%\n"
     ]
    }
   ],
   "source": [
    "#Get all instances of brown haired college students\n",
    "brown_hair = df[df['hair_color'] == 'brown']\n",
    "#Show all instances of brown haired students to the total students\n",
    "print('{:.0%}'.format(brown_hair.shape[0] / df.shape[0]))"
   ]
  },
  {
   "cell_type": "code",
   "execution_count": 8,
   "id": "9d932ba6",
   "metadata": {},
   "outputs": [
    {
     "name": "stdout",
     "output_type": "stream",
     "text": [
      "25%\n"
     ]
    }
   ],
   "source": [
    "#Get all instances of blue eyed college students\n",
    "blue_eyes = df[df['eye_color'] == 'blue']\n",
    "#Show all instances of blue eyed students to the total students\n",
    "print('{:.0%}'.format(blue_eyes.shape[0] / df.shape[0]))"
   ]
  },
  {
   "cell_type": "code",
   "execution_count": 9,
   "id": "6b47a3bb",
   "metadata": {},
   "outputs": [
    {
     "name": "stdout",
     "output_type": "stream",
     "text": [
      "22%\n"
     ]
    }
   ],
   "source": [
    "#Get all instances of brown haired with blue eyes\n",
    "brown_hair_blue_eyes = brown_hair[brown_hair['eye_color'] == 'blue']\n",
    "#Show all instances of brown haired students with blue eyes\n",
    "print('{:.0%}'.format(brown_hair_blue_eyes.shape[0] / brown_hair.shape[0]))"
   ]
  },
  {
   "cell_type": "code",
   "execution_count": 10,
   "id": "4d738bd0",
   "metadata": {},
   "outputs": [
    {
     "name": "stdout",
     "output_type": "stream",
     "text": [
      "45%\n"
     ]
    }
   ],
   "source": [
    "#Get all isntances of blue eyed students with brown hair\n",
    "blue_eyes_brown_hair = blue_eyes[blue_eyes['hair_color'] == 'brown']\n",
    "#Show all instances of blue eyed students with brown hair\n",
    "print('{:.0%}'.format(blue_eyes_brown_hair.shape[0] / blue_eyes.shape[0]))"
   ]
  },
  {
   "cell_type": "code",
   "execution_count": 11,
   "id": "5f3d2f6b",
   "metadata": {},
   "outputs": [
    {
     "name": "stdout",
     "output_type": "stream",
     "text": [
      "These cases for 2(e) are dependent because the percentages are different with blue eyed students and brown hair(blue eyes being the dependent variable) than brown hair with blue eyes.\n"
     ]
    }
   ],
   "source": [
    "print('These cases for 2(e) are dependent because the percentages are different with blue eyed students and brown hair(blue eyes being the dependent variable) than brown hair with blue eyes.')"
   ]
  },
  {
   "cell_type": "code",
   "execution_count": 12,
   "id": "059ba0de",
   "metadata": {},
   "outputs": [
    {
     "data": {
      "text/plain": [
       "Text(0, 0.5, 'Count of Students')"
      ]
     },
     "execution_count": 12,
     "metadata": {},
     "output_type": "execute_result"
    },
    {
     "data": {
      "image/png": "[encoded data removed]",
      "text/plain": [
       "<Figure size 432x288 with 1 Axes>"
      ]
     },
     "metadata": {
      "needs_background": "light"
     },
     "output_type": "display_data"
    }
   ],
   "source": [
    "#Count the distinct occurance of each category of students within in each category of hair color\n",
    "unique, counts = np.unique(df['hair_color'], return_counts=True)\n",
    "plt.bar(unique, counts)\n",
    "plt.xlabel('Hair Color')\n",
    "plt.ylabel('Count of Students')"
   ]
  },
  {
   "cell_type": "code",
   "execution_count": 13,
   "id": "28bbf5e2",
   "metadata": {},
   "outputs": [
    {
     "data": {
      "text/plain": [
       "Text(0, 0.5, 'Count of Students')"
      ]
     },
     "execution_count": 13,
     "metadata": {},
     "output_type": "execute_result"
    },
    {
     "data": {
      "image/png": "[encoded data removed]",
      "text/plain": [
       "<Figure size 432x288 with 1 Axes>"
      ]
     },
     "metadata": {
      "needs_background": "light"
     },
     "output_type": "display_data"
    }
   ],
   "source": [
    "#Count the distinct occurance of each category of students within in each category of eye color\n",
    "unique, counts = np.unique(df['eye_color'], return_counts=True)\n",
    "plt.bar(unique, counts)\n",
    "plt.xlabel('Eye Color')\n",
    "plt.ylabel('Count of Students')"
   ]
  }
 ],
 "metadata": {
  "kernelspec": {
   "display_name": "Python 3 (ipykernel)",
   "language": "python",
   "name": "python3"
  },
  "language_info": {
   "codemirror_mode": {
    "name": "ipython",
    "version": 3
   },
   "file_extension": ".py",
   "mimetype": "text/x-python",
   "name": "python",
   "nbconvert_exporter": "python",
   "pygments_lexer": "ipython3",
   "version": "3.9.7"
  }
 },
 "nbformat": 4,
 "nbformat_minor": 5
}
