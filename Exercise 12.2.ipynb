{
 "cells": [
  {
   "cell_type": "markdown",
   "id": "eb5c945f",
   "metadata": {},
   "source": [
    "## 1. Calculating Probabilities using Bayes’ Theorem"
   ]
  },
  {
   "cell_type": "code",
   "execution_count": 57,
   "id": "6c5cdbaf",
   "metadata": {},
   "outputs": [],
   "source": [
    "#Import libaries and assign percentages based upon the tree diagram\n",
    "import numpy as np\n",
    "\n",
    "#Probability of each manufacturing proccess\n",
    "a = 0.5\n",
    "b = 0.3\n",
    "c = 0.2\n",
    "\n",
    "#Defective %'s for each process\n",
    "aD = 0.03\n",
    "bD = 0.02\n",
    "cD = 0.04\n",
    "\n",
    "#Not Defective %'s for each process\n",
    "aND = 0.97\n",
    "bND = 0.98\n",
    "cND = 0.96"
   ]
  },
  {
   "cell_type": "code",
   "execution_count": 58,
   "id": "dd5aebec",
   "metadata": {},
   "outputs": [
    {
     "name": "stdout",
     "output_type": "stream",
     "text": [
      "51.72%\n"
     ]
    }
   ],
   "source": [
    "#P(defective|process) = (Likelihood(process|defective) * Prior(defective)) / Norm Cost(process)\n",
    "q1 = (a * aD) / (a*aD + b*bD + c*cD)\n",
    "print(\"{:.2%}\".format(q1))"
   ]
  },
  {
   "cell_type": "code",
   "execution_count": 59,
   "id": "827c548b",
   "metadata": {},
   "outputs": [
    {
     "name": "stdout",
     "output_type": "stream",
     "text": [
      "19.77%\n"
     ]
    }
   ],
   "source": [
    "#P(not defective|process) = (Likelihood(process|not defective) * Prior(not defective)) / Norm Cost(process)\n",
    "q2 = (c * cND) / (c*cND + b*bND + a*aND)\n",
    "print(\"{:.2%}\".format(q2))"
   ]
  },
  {
   "cell_type": "markdown",
   "id": "e60ea3a9",
   "metadata": {},
   "source": [
    "## 2. Entropy Function for a Probability Distribution"
   ]
  },
  {
   "cell_type": "code",
   "execution_count": 44,
   "id": "a2ed354b",
   "metadata": {},
   "outputs": [],
   "source": [
    "#Define entropy calculation according to our textbook\n",
    "def entropy(P):\n",
    "    return - np.sum(P * np.log2(P))"
   ]
  },
  {
   "cell_type": "markdown",
   "id": "be21f0e7",
   "metadata": {},
   "source": [
    "## 3. Calculating Entropies of Probability Distributions"
   ]
  },
  {
   "cell_type": "code",
   "execution_count": 142,
   "id": "a44c4074",
   "metadata": {},
   "outputs": [
    {
     "name": "stdout",
     "output_type": "stream",
     "text": [
      "X entropy is 2.321928094887362\n",
      "Y entropy is 2.046439344671015\n"
     ]
    }
   ],
   "source": [
    "#Create a pmf for X(1-5)\n",
    "x = np.array([0.2, 0.2, 0.2, 0.2, 0.2])\n",
    "\n",
    "#Create a pmf for Y(1-5)\n",
    "y = np.array([0.1, 0.4, 0.1, 0.3, 0.1])\n",
    "\n",
    "\n",
    "print(\"X entropy is {}\".format(entropy(x)))\n",
    "\n",
    "print(\"Y entropy is {}\".format(entropy(y)))"
   ]
  },
  {
   "cell_type": "markdown",
   "id": "866f5f07",
   "metadata": {},
   "source": [
    "There is more weight issued to x because each element of the array has the same probability of occurring, then would create a higher entropy value. \n",
    "In y, there is some elements that have more of a probability of occurring than others so there is less weight associated with \n",
    "those values and therefore less entropy."
   ]
  },
  {
   "cell_type": "code",
   "execution_count": null,
   "id": "d42b5a5e",
   "metadata": {},
   "outputs": [],
   "source": []
  }
 ],
 "metadata": {
  "kernelspec": {
   "display_name": "Python 3 (ipykernel)",
   "language": "python",
   "name": "python3"
  },
  "language_info": {
   "codemirror_mode": {
    "name": "ipython",
    "version": 3
   },
   "file_extension": ".py",
   "mimetype": "text/x-python",
   "name": "python",
   "nbconvert_exporter": "python",
   "pygments_lexer": "ipython3",
   "version": "3.9.7"
  }
 },
 "nbformat": 4,
 "nbformat_minor": 5
}
