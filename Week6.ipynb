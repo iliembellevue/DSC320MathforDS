{
 "cells": [
  {
   "cell_type": "code",
   "execution_count": 110,
   "id": "3bd20c70",
   "metadata": {},
   "outputs": [],
   "source": [
    "import statistics as stats\n",
    "import pandas as pd\n",
    "\n",
    "# 1. define data normaliztion forumula\n",
    "def normalize(df):\n",
    "    new_df = pd.DataFrame()\n",
    "    for column in df:\n",
    "        result = []\n",
    "        for value in df[column]:\n",
    "            result.append(((value-max(df[column]))) / (max(df[column])-min(df[column])))\n",
    "        new_df[str(column) + \"_norm\"] = result\n",
    "    return new_df\n",
    "\n",
    "# 2. define data standardization forumula\n",
    "def standardization(df):\n",
    "    new_df = pd.DataFrame()\n",
    "    for column in df:\n",
    "        result = []\n",
    "        for value in df[column]:\n",
    "            result.append(((value-stats.mean(df[column]))) / stats.mean(df[column]))\n",
    "        new_df[str(column) + \"_stand\"] = result\n",
    "    return new_df"
   ]
  },
  {
   "cell_type": "code",
   "execution_count": 111,
   "id": "be38046e",
   "metadata": {},
   "outputs": [
    {
     "name": "stdout",
     "output_type": "stream",
     "text": [
      "3a) The length of the dataset is 20640 records\n"
     ]
    }
   ],
   "source": [
    "df = pd.read_csv(r'C:\\Users\\ILiem\\OneDrive - The Scoular Company\\Documents\\Bellevue\\Math for DS\\calif_housing_data.csv')\n",
    "print(\"3a) The length of the dataset is\",len(df), \"records\")"
   ]
  },
  {
   "cell_type": "code",
   "execution_count": 112,
   "id": "9e32f861",
   "metadata": {},
   "outputs": [
    {
     "name": "stdout",
     "output_type": "stream",
     "text": [
      "3b) The target vector is the median house value column.\n"
     ]
    }
   ],
   "source": [
    "print(\"3b) The target vector is the median house value column.\")"
   ]
  },
  {
   "cell_type": "code",
   "execution_count": 113,
   "id": "260ad6bb",
   "metadata": {},
   "outputs": [
    {
     "name": "stdout",
     "output_type": "stream",
     "text": [
      "3c) The column bedrooms_households represents the average bedrooms per household.\n"
     ]
    }
   ],
   "source": [
    "df[\"bedrooms_households\"] = df.total_bedrooms / df.households\n",
    "print(\"3c) The column bedrooms_households represents the average bedrooms per household.\")"
   ]
  },
  {
   "cell_type": "code",
   "execution_count": 115,
   "id": "843316b0",
   "metadata": {},
   "outputs": [
    {
     "name": "stdout",
     "output_type": "stream",
     "text": [
      "3d) The new dataframe only has median age, median income, and average bedrooms per household\n",
      "\n",
      "    housing_median_age  median_income  bedrooms_households\n",
      "0                  41         8.3252             1.023810\n",
      "1                  21         8.3014             0.971880\n",
      "2                  52         7.2574             1.073446\n",
      "3                  52         5.6431             1.073059\n",
      "4                  52         3.8462             1.081081\n"
     ]
    }
   ],
   "source": [
    "df2 = df[[\"housing_median_age\", \"median_income\",\"bedrooms_households\"]]\n",
    "print(\"3d) The new dataframe only has median age, median income, and average bedrooms per household\\n\\n\", df2.head())"
   ]
  },
  {
   "cell_type": "code",
   "execution_count": null,
   "id": "e3aba311",
   "metadata": {},
   "outputs": [],
   "source": [
    "df_stand = standardization(df2)\n",
    "df_norm = normalize(df2)\n",
    "df2 = df2.merge(df_stand, left_index = True, right_index = True)\n",
    "df2 = df2.merge(df_norm, left_index = True, right_index = True)\n",
    "print(\"3d) The final dataframe has been merged into the original and is as follows\\n\\n\",df2)"
   ]
  },
  {
   "cell_type": "code",
   "execution_count": null,
   "id": "939b4440",
   "metadata": {},
   "outputs": [],
   "source": []
  }
 ],
 "metadata": {
  "kernelspec": {
   "display_name": "Python 3",
   "language": "python",
   "name": "python3"
  },
  "language_info": {
   "codemirror_mode": {
    "name": "ipython",
    "version": 3
   },
   "file_extension": ".py",
   "mimetype": "text/x-python",
   "name": "python",
   "nbconvert_exporter": "python",
   "pygments_lexer": "ipython3",
   "version": "3.8.8"
  }
 },
 "nbformat": 4,
 "nbformat_minor": 5
}
