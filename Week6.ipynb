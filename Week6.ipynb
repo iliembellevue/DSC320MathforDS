{
 "cells": [
  {
   "cell_type": "code",
   "execution_count": 40,
   "id": "22c373eb",
   "metadata": {},
   "outputs": [],
   "source": [
    "import statistics as stats\n",
    "import pandas as pd\n",
    "\n",
    "# 1. define data normaliztion forumula\n",
    "def normalize(df):\n",
    "    new_df = pd.DataFrame()\n",
    "    for column in df:\n",
    "        result = []\n",
    "        max_of_col = max(df[column])\n",
    "        min_of_col = min(df[column])\n",
    "        for value in df[column]:\n",
    "            result.append(((value-max_of_col)) / (max_of_col-min_of_col))\n",
    "        new_df[str(column) + \"_norm\"] = result\n",
    "    return new_df\n",
    "\n",
    "# 2. define data standardization forumula\n",
    "def standardization(df):\n",
    "    new_df = pd.DataFrame()\n",
    "    for column in df:\n",
    "        result = []\n",
    "        mean_of_col = stats.mean(df[column])\n",
    "        stdev_of_col = stats.stdev(df[column])\n",
    "        for value in df[column]:\n",
    "            result.append(((value-mean_of_col)) / stdev_of_col)\n",
    "        new_df[str(column) + \"_stand\"] = result\n",
    "    return new_df"
   ]
  },
  {
   "cell_type": "code",
   "execution_count": 41,
   "id": "9bee7bd8",
   "metadata": {},
   "outputs": [
    {
     "name": "stdout",
     "output_type": "stream",
     "text": [
      "3a) The length of the dataset is 20640 records\n"
     ]
    }
   ],
   "source": [
    "df = pd.read_csv(r'C:\\Users\\ILiem\\OneDrive - The Scoular Company\\Documents\\Bellevue\\Math for DS\\calif_housing_data.csv')\n",
    "print(\"3a) The length of the dataset is\",len(df), \"records\")"
   ]
  },
  {
   "cell_type": "code",
   "execution_count": 42,
   "id": "974f5c1b",
   "metadata": {},
   "outputs": [
    {
     "name": "stdout",
     "output_type": "stream",
     "text": [
      "3b) The target vector is the median house value column.\n"
     ]
    }
   ],
   "source": [
    "print(\"3b) The target vector is the median house value column.\")"
   ]
  },
  {
   "cell_type": "code",
   "execution_count": 43,
   "id": "00b018ad",
   "metadata": {},
   "outputs": [
    {
     "name": "stdout",
     "output_type": "stream",
     "text": [
      "3c) The column bedrooms_households represents the average bedrooms per household.\n"
     ]
    }
   ],
   "source": [
    "df[\"bedrooms_households\"] = df.total_bedrooms / df.households\n",
    "print(\"3c) The column bedrooms_households represents the average bedrooms per household.\")"
   ]
  },
  {
   "cell_type": "code",
   "execution_count": 44,
   "id": "ccad84ab",
   "metadata": {},
   "outputs": [
    {
     "name": "stdout",
     "output_type": "stream",
     "text": [
      "3d) The new dataframe only has median age, median income, and average bedrooms per household\n",
      "\n",
      "    housing_median_age  median_income  bedrooms_households\n",
      "0                  41         8.3252             1.023810\n",
      "1                  21         8.3014             0.971880\n",
      "2                  52         7.2574             1.073446\n",
      "3                  52         5.6431             1.073059\n",
      "4                  52         3.8462             1.081081\n"
     ]
    }
   ],
   "source": [
    "df2 = df[[\"housing_median_age\", \"median_income\",\"bedrooms_households\"]]\n",
    "print(\"3d) The new dataframe only has median age, median income, and average bedrooms per household\\n\\n\", df2.head())"
   ]
  },
  {
   "cell_type": "code",
   "execution_count": 45,
   "id": "4c7f0594",
   "metadata": {},
   "outputs": [
    {
     "name": "stdout",
     "output_type": "stream",
     "text": [
      "3d) The final dataframe has been merged into the original and is as follows\n",
      "\n",
      "        housing_median_age  median_income  bedrooms_households  \\\n",
      "0                      41         8.3252             1.023810   \n",
      "1                      21         8.3014             0.971880   \n",
      "2                      52         7.2574             1.073446   \n",
      "3                      52         5.6431             1.073059   \n",
      "4                      52         3.8462             1.081081   \n",
      "...                   ...            ...                  ...   \n",
      "20635                  25         1.5603             1.133333   \n",
      "20636                  18         2.5568             1.315789   \n",
      "20637                  17         1.7000             1.120092   \n",
      "20638                  18         1.8672             1.171920   \n",
      "20639                  16         2.3886             1.162264   \n",
      "\n",
      "       housing_median_age_stand  median_income_stand  \\\n",
      "0                      0.982119             2.344709   \n",
      "1                     -0.607004             2.332181   \n",
      "2                      1.856137             1.782656   \n",
      "3                      1.856137             0.932945   \n",
      "4                      1.856137            -0.012881   \n",
      "...                         ...                  ...   \n",
      "20635                 -0.289180            -1.216099   \n",
      "20636                 -0.845373            -0.691576   \n",
      "20637                 -0.924829            -1.142566   \n",
      "20638                 -0.845373            -1.054557   \n",
      "20639                 -1.004285            -0.780111   \n",
      "\n",
      "       bedrooms_households_stand  housing_median_age_norm  median_income_norm  \\\n",
      "0                            NaN                -0.215686           -0.460332   \n",
      "1                            NaN                -0.607843           -0.461973   \n",
      "2                            NaN                 0.000000           -0.533972   \n",
      "3                            NaN                 0.000000           -0.645301   \n",
      "4                            NaN                 0.000000           -0.769224   \n",
      "...                          ...                      ...                 ...   \n",
      "20635                        NaN                -0.529412           -0.926870   \n",
      "20636                        NaN                -0.666667           -0.858147   \n",
      "20637                        NaN                -0.686275           -0.917236   \n",
      "20638                        NaN                -0.666667           -0.905705   \n",
      "20639                        NaN                -0.705882           -0.869747   \n",
      "\n",
      "       bedrooms_households_norm  \n",
      "0                     -0.979531  \n",
      "1                     -0.981071  \n",
      "2                     -0.978060  \n",
      "3                     -0.978071  \n",
      "4                     -0.977834  \n",
      "...                         ...  \n",
      "20635                 -0.976285  \n",
      "20636                 -0.970876  \n",
      "20637                 -0.976677  \n",
      "20638                 -0.975141  \n",
      "20639                 -0.975427  \n",
      "\n",
      "[20640 rows x 9 columns]\n"
     ]
    }
   ],
   "source": [
    "df_stand = standardization(df2)\n",
    "df_norm = normalize(df2)\n",
    "df2 = df2.merge(df_stand, left_index = True, right_index = True)\n",
    "df2 = df2.merge(df_norm, left_index = True, right_index = True)\n",
    "print(\"3d) The final dataframe has been merged into the original and is as follows\\n\\n\",df2)"
   ]
  },
  {
   "cell_type": "code",
   "execution_count": null,
   "id": "6f161329",
   "metadata": {},
   "outputs": [],
   "source": []
  }
 ],
 "metadata": {
  "kernelspec": {
   "display_name": "Python 3",
   "language": "python",
   "name": "python3"
  },
  "language_info": {
   "codemirror_mode": {
    "name": "ipython",
    "version": 3
   },
   "file_extension": ".py",
   "mimetype": "text/x-python",
   "name": "python",
   "nbconvert_exporter": "python",
   "pygments_lexer": "ipython3",
   "version": "3.8.8"
  }
 },
 "nbformat": 4,
 "nbformat_minor": 5
}
