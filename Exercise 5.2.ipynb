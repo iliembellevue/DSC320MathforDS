{
 "cells": [
  {
   "cell_type": "code",
   "execution_count": 12,
   "id": "0b162862",
   "metadata": {},
   "outputs": [],
   "source": [
    "import numpy as np\n",
    "import matplotlib.pyplot as plt\n",
    "\n",
    "def riemann_sum(f,a,b,N):\n",
    "    # Get uniform subdivisions and N+1 for the right riemann sum.\n",
    "    x = np.linspace(a,b,N+1)\n",
    "    # Create the array for the function given in the assignment.\n",
    "    y = f(x)\n",
    "    # The delta of x is the furthest point on the x axis minus the first point divided by the number of rectangles (R).\n",
    "    dx = (b-a)/n\n",
    "    # Align x so it it starts at the first point after the given input of a.\n",
    "    x_right = x[1:]\n",
    "    # Find the area under the curve using the riemann sum formula.\n",
    "    right_riemann_sum = np.sum(f(x_right) * dx)\n",
    "    return x,y,right_riemann_sum"
   ]
  },
  {
   "cell_type": "code",
   "execution_count": 13,
   "id": "e0812926",
   "metadata": {},
   "outputs": [
    {
     "name": "stdout",
     "output_type": "stream",
     "text": [
      "1(a) Sketch the graph of f and the rectangles of the righ Riemann sum.\n"
     ]
    },
    {
     "data": {
      "image/png": "[encoded data removed]",
      "text/plain": [
       "<Figure size 432x288 with 1 Axes>"
      ]
     },
     "metadata": {
      "needs_background": "light"
     },
     "output_type": "display_data"
    }
   ],
   "source": [
    "# Create my input variable for riemann_sum. These can be modified to find any AUC between a-b given the function f.\n",
    "f = lambda x : np.sqrt(4-x**2)\n",
    "a = 0\n",
    "b = 2\n",
    "n = 1000\n",
    "\n",
    "# Pass the given inputs and return those into separate variables.\n",
    "x = riemann_sum(f,a,b,n)\n",
    "right_riemann_sum = x[2]\n",
    "y=x[1]\n",
    "x=x[0]\n",
    "# The chart begins with a negative number on the chart with the rectangles.\n",
    "# Instead I start with the first value in the array instead to sart at zero.\n",
    "x_right = x[1:]\n",
    "y_right = y[1:]\n",
    "\n",
    "plt.figure()\n",
    "# Create the rectangles, did some research to get the width and alpha parameters to line up correctly. \n",
    "plt.bar(x_right,y_right,width=-(b-a)/n,alpha=0.2,align='edge',edgecolor='b')\n",
    "# Plot markers to indicate it is touching the line at the right side of the rectangles.\n",
    "plt.plot(x_right,y_right,'b.',markersize=10)\n",
    "# Plot the line for the chart.\n",
    "plt.plot(x,y,'b')\n",
    "print(\"1(a) Sketch the graph of f and the rectangles of the righ Riemann sum.\")"
   ]
  },
  {
   "cell_type": "code",
   "execution_count": 14,
   "id": "bf4a2a6e",
   "metadata": {},
   "outputs": [
    {
     "name": "stdout",
     "output_type": "stream",
     "text": [
      "1(b) R4 is 4\n",
      "1(c) The total sum of the bars is the riemann sum of 3.1395554669110277\n"
     ]
    }
   ],
   "source": [
    "print(\"1(b) R4 is 4\")\n",
    "\n",
    "\n",
    "print(\"1(c) The total sum of the bars is the riemann sum of\",right_riemann_sum)"
   ]
  },
  {
   "cell_type": "markdown",
   "id": "abea5b41",
   "metadata": {},
   "source": [
    "The value of 1(c) does have a name, it is the AUC or Area Under The Curve."
   ]
  },
  {
   "cell_type": "code",
   "execution_count": null,
   "id": "3bcc983b",
   "metadata": {},
   "outputs": [],
   "source": []
  }
 ],
 "metadata": {
  "kernelspec": {
   "display_name": "Python 3",
   "language": "python",
   "name": "python3"
  },
  "language_info": {
   "codemirror_mode": {
    "name": "ipython",
    "version": 3
   },
   "file_extension": ".py",
   "mimetype": "text/x-python",
   "name": "python",
   "nbconvert_exporter": "python",
   "pygments_lexer": "ipython3",
   "version": "3.8.8"
  }
 },
 "nbformat": 4,
 "nbformat_minor": 5
}
