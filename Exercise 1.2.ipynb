{
 "cells": [
  {
   "cell_type": "markdown",
   "id": "284cb32e",
   "metadata": {},
   "source": [
    "To begin I have imported the necessary libraries to inclduing pandas, numpy, and matplotlib."
   ]
  },
  {
   "cell_type": "code",
   "execution_count": 4,
   "id": "2974c80d",
   "metadata": {},
   "outputs": [],
   "source": [
    "import pandas as pd\n",
    "import numpy as np\n",
    "import matplotlib.pyplot as plt"
   ]
  },
  {
   "cell_type": "markdown",
   "id": "da393d5c",
   "metadata": {},
   "source": [
    "I then created 3 functions:\n",
    "1. RMSE - I understood the forumla, but I googled around to find the best way to perform this formula. I used numpy's sqrt and mean functions then passed the predictive and target variable to the function."
   ]
  },
  {
   "cell_type": "code",
   "execution_count": 5,
   "id": "bd5a1f3c",
   "metadata": {},
   "outputs": [],
   "source": [
    "def RMSE(pred, target):\n",
    "    return np.sqrt(((pred - target) ** 2).mean())"
   ]
  },
  {
   "cell_type": "markdown",
   "id": "fd72a808",
   "metadata": {},
   "source": [
    "2. MAE - Pretty well the same approach with MAE as RSME. I used numpy's mean function and pythons built in absolute function then passed the predictive and target variable to the function."
   ]
  },
  {
   "cell_type": "code",
   "execution_count": 6,
   "id": "170cc9f5",
   "metadata": {},
   "outputs": [],
   "source": [
    "def MAE(pred, target):\n",
    "    return np.mean(abs(pred - target))"
   ]
  },
  {
   "cell_type": "markdown",
   "id": "595b229c",
   "metadata": {},
   "source": [
    "3. With the model_accuracy I used a for loop and arbitrarily chose pred as the number of times to iterate through since the arrays of pred and target are the same length. If pred and target are the same then it's counted as a correct prediction. Finally I return the value as a percent of the whole array."
   ]
  },
  {
   "cell_type": "code",
   "execution_count": 7,
   "id": "b7d37e53",
   "metadata": {},
   "outputs": [],
   "source": [
    "def model_accuracy(pred, target):\n",
    "    correct = 0\n",
    "    i = 0\n",
    "    while i < len(pred):\n",
    "        if pred[i] == target[i]:\n",
    "            correct = correct + 1\n",
    "        i = i + 1\n",
    "    return correct / int(len(pred))"
   ]
  },
  {
   "cell_type": "markdown",
   "id": "cfcc9ff8",
   "metadata": {},
   "source": [
    "I read the data from the files location using pandas and call the functions. I then print the functions to the console window."
   ]
  },
  {
   "cell_type": "code",
   "execution_count": 8,
   "id": "cbe775d0",
   "metadata": {},
   "outputs": [
    {
     "name": "stdout",
     "output_type": "stream",
     "text": [
      "RMSE 55064.068833898666 \n",
      "MAE 37438.689162705436 \n",
      "Accuracy 0.8471196454948301\n"
     ]
    }
   ],
   "source": [
    "df = pd.read_csv(\"C:\\\\Users\\ILiem\\\\OneDrive - The Scoular Company\\\\Documents\\\\Bellevue\\\\Math for DS\\\\week1data\\\\week1data\\\\housing_data.csv\")\n",
    "RSME = RMSE(df.sale_price_pred, df.sale_price)\n",
    "MAE = MAE(df.sale_price_pred, df.sale_price)\n",
    "\n",
    "df2 = pd.read_csv(\"C:\\\\Users\\ILiem\\\\OneDrive - The Scoular Company\\\\Documents\\\\Bellevue\\\\Math for DS\\\\week1data\\\\week1data\\\\mushroom_data.csv\")\n",
    "accuracy = model_accuracy(df2.predicted, df2.actual)\n",
    "print(\"RMSE\", RSME, \"\\nMAE\", MAE, \"\\nAccuracy\",accuracy)"
   ]
  },
  {
   "cell_type": "markdown",
   "id": "54bab319",
   "metadata": {},
   "source": [
    "Finally, I set the xlim and ylim appropriately to view the lowest point of the function in my graph which minimizes the errors. The lowest point is 5 so f(p)= 5"
   ]
  },
  {
   "cell_type": "code",
   "execution_count": 3,
   "id": "dca95b3a",
   "metadata": {},
   "outputs": [
    {
     "data": {
      "image/png": "[encoded data removed]",
      "text/plain": [
       "<Figure size 432x288 with 1 Axes>"
      ]
     },
     "metadata": {
      "needs_background": "light"
     },
     "output_type": "display_data"
    }
   ],
   "source": [
    "p = np.linspace(3,7,5)\n",
    "\n",
    "y=0.005*(p**6) - 0.27*(p**5)  + 5.998*(p**4)  - 69.919*(p**3)  + 449.17*(p**2)  - 1499.7*(p) + 2028\n",
    "\n",
    "fig = plt.figure()\n",
    "ax = fig.add_subplot(1, 1, 1)\n",
    "ax.spines['left'].set_position('center')\n",
    "ax.spines['bottom'].set_position('zero')\n",
    "ax.spines['right'].set_color('none')\n",
    "ax.spines['top'].set_color('none')\n",
    "ax.xaxis.set_ticks_position('bottom')\n",
    "ax.yaxis.set_ticks_position('left')\n",
    "\n",
    "# plot the function\n",
    "plt.plot(p,y, 'r')\n",
    "plt.show()"
   ]
  }
 ],
 "metadata": {
  "kernelspec": {
   "display_name": "Python 3",
   "language": "python",
   "name": "python3"
  },
  "language_info": {
   "codemirror_mode": {
    "name": "ipython",
    "version": 3
   },
   "file_extension": ".py",
   "mimetype": "text/x-python",
   "name": "python",
   "nbconvert_exporter": "python",
   "pygments_lexer": "ipython3",
   "version": "3.8.8"
  }
 },
 "nbformat": 4,
 "nbformat_minor": 5
}
